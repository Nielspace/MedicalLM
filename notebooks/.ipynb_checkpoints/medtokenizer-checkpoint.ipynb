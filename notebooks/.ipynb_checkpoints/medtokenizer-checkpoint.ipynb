{
 "cells": [
  {
   "cell_type": "code",
   "execution_count": 1,
   "metadata": {
    "_cell_guid": "b1076dfc-b9ad-4769-8c92-a6c4dae69d19",
    "_uuid": "8f2839f25d086af736a60e9eeb907d3b93b6e0e5",
    "execution": {
     "iopub.execute_input": "2023-06-01T16:41:30.657505Z",
     "iopub.status.busy": "2023-06-01T16:41:30.657123Z",
     "iopub.status.idle": "2023-06-01T16:41:30.688078Z",
     "shell.execute_reply": "2023-06-01T16:41:30.687239Z",
     "shell.execute_reply.started": "2023-06-01T16:41:30.657476Z"
    }
   },
   "outputs": [],
   "source": [
    "import numpy as np \n",
    "import pandas as pd\n",
    "import os\n",
    "\n",
    "import matplotlib.pyplot as plt\n",
    "plt.rcParams.update({'font.size': 10})"
   ]
  },
  {
   "cell_type": "code",
   "execution_count": 2,
   "metadata": {
    "execution": {
     "iopub.execute_input": "2023-06-01T16:41:33.341615Z",
     "iopub.status.busy": "2023-06-01T16:41:33.341228Z",
     "iopub.status.idle": "2023-06-01T16:41:33.898374Z",
     "shell.execute_reply": "2023-06-01T16:41:33.897068Z",
     "shell.execute_reply.started": "2023-06-01T16:41:33.341581Z"
    }
   },
   "outputs": [],
   "source": [
    "df = pd.read_csv('/kaggle/input/morticd10/codes.csv')\n",
    "\n",
    "#structuring\n",
    "df.columns = ['prefix_codes', 'decimal', 'codes', 'description', 'long_description', 'label']"
   ]
  },
  {
   "cell_type": "code",
   "execution_count": 3,
   "metadata": {
    "execution": {
     "iopub.execute_input": "2023-06-01T16:41:41.799038Z",
     "iopub.status.busy": "2023-06-01T16:41:41.798401Z",
     "iopub.status.idle": "2023-06-01T16:41:41.826205Z",
     "shell.execute_reply": "2023-06-01T16:41:41.825290Z",
     "shell.execute_reply.started": "2023-06-01T16:41:41.799007Z"
    }
   },
   "outputs": [
    {
     "data": {
      "text/html": [
       "<div>\n",
       "<style scoped>\n",
       "    .dataframe tbody tr th:only-of-type {\n",
       "        vertical-align: middle;\n",
       "    }\n",
       "\n",
       "    .dataframe tbody tr th {\n",
       "        vertical-align: top;\n",
       "    }\n",
       "\n",
       "    .dataframe thead th {\n",
       "        text-align: right;\n",
       "    }\n",
       "</style>\n",
       "<table border=\"1\" class=\"dataframe\">\n",
       "  <thead>\n",
       "    <tr style=\"text-align: right;\">\n",
       "      <th></th>\n",
       "      <th>prefix_codes</th>\n",
       "      <th>decimal</th>\n",
       "      <th>codes</th>\n",
       "      <th>description</th>\n",
       "      <th>long_description</th>\n",
       "      <th>label</th>\n",
       "    </tr>\n",
       "  </thead>\n",
       "  <tbody>\n",
       "    <tr>\n",
       "      <th>0</th>\n",
       "      <td>A00</td>\n",
       "      <td>1</td>\n",
       "      <td>A001</td>\n",
       "      <td>Cholera due to Vibrio cholerae 01, biovar eltor</td>\n",
       "      <td>Cholera due to Vibrio cholerae 01, biovar eltor</td>\n",
       "      <td>Cholera</td>\n",
       "    </tr>\n",
       "    <tr>\n",
       "      <th>1</th>\n",
       "      <td>A00</td>\n",
       "      <td>9</td>\n",
       "      <td>A009</td>\n",
       "      <td>Cholera, unspecified</td>\n",
       "      <td>Cholera, unspecified</td>\n",
       "      <td>Cholera</td>\n",
       "    </tr>\n",
       "    <tr>\n",
       "      <th>2</th>\n",
       "      <td>A010</td>\n",
       "      <td>0</td>\n",
       "      <td>A0100</td>\n",
       "      <td>Typhoid fever, unspecified</td>\n",
       "      <td>Typhoid fever, unspecified</td>\n",
       "      <td>Typhoid fever</td>\n",
       "    </tr>\n",
       "    <tr>\n",
       "      <th>3</th>\n",
       "      <td>A010</td>\n",
       "      <td>1</td>\n",
       "      <td>A0101</td>\n",
       "      <td>Typhoid meningitis</td>\n",
       "      <td>Typhoid meningitis</td>\n",
       "      <td>Typhoid fever</td>\n",
       "    </tr>\n",
       "    <tr>\n",
       "      <th>4</th>\n",
       "      <td>A010</td>\n",
       "      <td>2</td>\n",
       "      <td>A0102</td>\n",
       "      <td>Typhoid fever with heart involvement</td>\n",
       "      <td>Typhoid fever with heart involvement</td>\n",
       "      <td>Typhoid fever</td>\n",
       "    </tr>\n",
       "  </tbody>\n",
       "</table>\n",
       "</div>"
      ],
      "text/plain": [
       "  prefix_codes decimal  codes  \\\n",
       "0          A00       1   A001   \n",
       "1          A00       9   A009   \n",
       "2         A010       0  A0100   \n",
       "3         A010       1  A0101   \n",
       "4         A010       2  A0102   \n",
       "\n",
       "                                       description  \\\n",
       "0  Cholera due to Vibrio cholerae 01, biovar eltor   \n",
       "1                             Cholera, unspecified   \n",
       "2                       Typhoid fever, unspecified   \n",
       "3                               Typhoid meningitis   \n",
       "4             Typhoid fever with heart involvement   \n",
       "\n",
       "                                  long_description          label  \n",
       "0  Cholera due to Vibrio cholerae 01, biovar eltor        Cholera  \n",
       "1                             Cholera, unspecified        Cholera  \n",
       "2                       Typhoid fever, unspecified  Typhoid fever  \n",
       "3                               Typhoid meningitis  Typhoid fever  \n",
       "4             Typhoid fever with heart involvement  Typhoid fever  "
      ]
     },
     "execution_count": 3,
     "metadata": {},
     "output_type": "execute_result"
    }
   ],
   "source": [
    "df.head()"
   ]
  },
  {
   "cell_type": "code",
   "execution_count": 4,
   "metadata": {
    "execution": {
     "iopub.execute_input": "2023-06-01T16:41:54.746058Z",
     "iopub.status.busy": "2023-06-01T16:41:54.745701Z",
     "iopub.status.idle": "2023-06-01T16:41:54.763969Z",
     "shell.execute_reply": "2023-06-01T16:41:54.761904Z",
     "shell.execute_reply.started": "2023-06-01T16:41:54.746032Z"
    }
   },
   "outputs": [
    {
     "data": {
      "text/plain": [
       "(19927, 71703)"
      ]
     },
     "execution_count": 4,
     "metadata": {},
     "output_type": "execute_result"
    }
   ],
   "source": [
    "len(df.prefix_codes.unique()), len(df)"
   ]
  },
  {
   "cell_type": "code",
   "execution_count": 5,
   "metadata": {
    "execution": {
     "iopub.execute_input": "2023-06-01T16:42:53.771652Z",
     "iopub.status.busy": "2023-06-01T16:42:53.771279Z",
     "iopub.status.idle": "2023-06-01T16:43:07.297152Z",
     "shell.execute_reply": "2023-06-01T16:43:07.296143Z",
     "shell.execute_reply.started": "2023-06-01T16:42:53.771626Z"
    }
   },
   "outputs": [
    {
     "name": "stderr",
     "output_type": "stream",
     "text": [
      "/opt/conda/lib/python3.10/site-packages/tensorflow_io/python/ops/__init__.py:98: UserWarning: unable to load libtensorflow_io_plugins.so: unable to open file: libtensorflow_io_plugins.so, from paths: ['/opt/conda/lib/python3.10/site-packages/tensorflow_io/python/ops/libtensorflow_io_plugins.so']\n",
      "caused by: ['/opt/conda/lib/python3.10/site-packages/tensorflow_io/python/ops/libtensorflow_io_plugins.so: undefined symbol: _ZN3tsl6StatusC1EN10tensorflow5error4CodeESt17basic_string_viewIcSt11char_traitsIcEENS_14SourceLocationE']\n",
      "  warnings.warn(f\"unable to load libtensorflow_io_plugins.so: {e}\")\n",
      "/opt/conda/lib/python3.10/site-packages/tensorflow_io/python/ops/__init__.py:104: UserWarning: file system plugins are not loaded: unable to open file: libtensorflow_io.so, from paths: ['/opt/conda/lib/python3.10/site-packages/tensorflow_io/python/ops/libtensorflow_io.so']\n",
      "caused by: ['/opt/conda/lib/python3.10/site-packages/tensorflow_io/python/ops/libtensorflow_io.so: undefined symbol: _ZTVN10tensorflow13GcsFileSystemE']\n",
      "  warnings.warn(f\"file system plugins are not loaded: {e}\")\n"
     ]
    }
   ],
   "source": [
    "from transformers import BertTokenizer, BertForSequenceClassification\n",
    "from torch.utils.data import DataLoader\n",
    "from transformers import AdamW\n",
    "import torch\n"
   ]
  },
  {
   "cell_type": "code",
   "execution_count": 6,
   "metadata": {
    "execution": {
     "iopub.execute_input": "2023-06-01T16:43:07.299273Z",
     "iopub.status.busy": "2023-06-01T16:43:07.298964Z",
     "iopub.status.idle": "2023-06-01T16:43:13.234676Z",
     "shell.execute_reply": "2023-06-01T16:43:13.233632Z",
     "shell.execute_reply.started": "2023-06-01T16:43:07.299246Z"
    }
   },
   "outputs": [
    {
     "data": {
      "application/vnd.jupyter.widget-view+json": {
       "model_id": "6cf851acbf1e43759afa68d27a2e4480",
       "version_major": 2,
       "version_minor": 0
      },
      "text/plain": [
       "Downloading (…)solve/main/vocab.txt:   0%|          | 0.00/232k [00:00<?, ?B/s]"
      ]
     },
     "metadata": {},
     "output_type": "display_data"
    },
    {
     "data": {
      "application/vnd.jupyter.widget-view+json": {
       "model_id": "bee808469c5f4f4e94752c5db0bc4531",
       "version_major": 2,
       "version_minor": 0
      },
      "text/plain": [
       "Downloading (…)okenizer_config.json:   0%|          | 0.00/28.0 [00:00<?, ?B/s]"
      ]
     },
     "metadata": {},
     "output_type": "display_data"
    },
    {
     "data": {
      "application/vnd.jupyter.widget-view+json": {
       "model_id": "332c34d56577463a8c8b61da56854399",
       "version_major": 2,
       "version_minor": 0
      },
      "text/plain": [
       "Downloading (…)lve/main/config.json:   0%|          | 0.00/570 [00:00<?, ?B/s]"
      ]
     },
     "metadata": {},
     "output_type": "display_data"
    }
   ],
   "source": [
    "tokenizer = BertTokenizer.from_pretrained('bert-base-uncased')"
   ]
  },
  {
   "cell_type": "code",
   "execution_count": 8,
   "metadata": {
    "execution": {
     "iopub.execute_input": "2023-06-01T16:43:50.965931Z",
     "iopub.status.busy": "2023-06-01T16:43:50.965504Z",
     "iopub.status.idle": "2023-06-01T16:43:51.014090Z",
     "shell.execute_reply": "2023-06-01T16:43:51.012981Z",
     "shell.execute_reply.started": "2023-06-01T16:43:50.965891Z"
    }
   },
   "outputs": [
    {
     "name": "stdout",
     "output_type": "stream",
     "text": [
      "Size: 71703\n"
     ]
    },
    {
     "data": {
      "text/html": [
       "<div>\n",
       "<style scoped>\n",
       "    .dataframe tbody tr th:only-of-type {\n",
       "        vertical-align: middle;\n",
       "    }\n",
       "\n",
       "    .dataframe tbody tr th {\n",
       "        vertical-align: top;\n",
       "    }\n",
       "\n",
       "    .dataframe thead th {\n",
       "        text-align: right;\n",
       "    }\n",
       "</style>\n",
       "<table border=\"1\" class=\"dataframe\">\n",
       "  <thead>\n",
       "    <tr style=\"text-align: right;\">\n",
       "      <th></th>\n",
       "      <th>prefix_codes</th>\n",
       "      <th>decimal</th>\n",
       "      <th>codes</th>\n",
       "      <th>description</th>\n",
       "      <th>long_description</th>\n",
       "      <th>label</th>\n",
       "    </tr>\n",
       "  </thead>\n",
       "  <tbody>\n",
       "    <tr>\n",
       "      <th>13730</th>\n",
       "      <td>M2481</td>\n",
       "      <td>9</td>\n",
       "      <td>M24819</td>\n",
       "      <td>Oth specific joint derangements of unsp should...</td>\n",
       "      <td>Other specific joint derangements of unspecifi...</td>\n",
       "      <td>Other specific joint derangements of shoulder,...</td>\n",
       "    </tr>\n",
       "    <tr>\n",
       "      <th>22501</th>\n",
       "      <td>R197</td>\n",
       "      <td>NaN</td>\n",
       "      <td>R197</td>\n",
       "      <td>Diarrhea, unspecified</td>\n",
       "      <td>Diarrhea, unspecified</td>\n",
       "      <td>Diarrhea, unspecified</td>\n",
       "    </tr>\n",
       "    <tr>\n",
       "      <th>20893</th>\n",
       "      <td>O891</td>\n",
       "      <td>NaN</td>\n",
       "      <td>O891</td>\n",
       "      <td>Cardiac complications of anesthesia during the...</td>\n",
       "      <td>Cardiac complications of anesthesia during the...</td>\n",
       "      <td>Cardiac complications of anesthesia during the...</td>\n",
       "    </tr>\n",
       "    <tr>\n",
       "      <th>13975</th>\n",
       "      <td>M260</td>\n",
       "      <td>3</td>\n",
       "      <td>M2603</td>\n",
       "      <td>Mandibular hyperplasia</td>\n",
       "      <td>Mandibular hyperplasia</td>\n",
       "      <td>Major anomalies of jaw size</td>\n",
       "    </tr>\n",
       "    <tr>\n",
       "      <th>36830</th>\n",
       "      <td>S59032</td>\n",
       "      <td>S</td>\n",
       "      <td>S59032S</td>\n",
       "      <td>Sltr-haris Type III physl fx lower end ulna, l...</td>\n",
       "      <td>Salter-Harris Type III physeal fracture of low...</td>\n",
       "      <td>Salter-Harris Type III physeal fracture of low...</td>\n",
       "    </tr>\n",
       "  </tbody>\n",
       "</table>\n",
       "</div>"
      ],
      "text/plain": [
       "      prefix_codes decimal    codes  \\\n",
       "13730        M2481       9   M24819   \n",
       "22501         R197     NaN     R197   \n",
       "20893         O891     NaN     O891   \n",
       "13975         M260       3    M2603   \n",
       "36830       S59032       S  S59032S   \n",
       "\n",
       "                                             description  \\\n",
       "13730  Oth specific joint derangements of unsp should...   \n",
       "22501                              Diarrhea, unspecified   \n",
       "20893  Cardiac complications of anesthesia during the...   \n",
       "13975                             Mandibular hyperplasia   \n",
       "36830  Sltr-haris Type III physl fx lower end ulna, l...   \n",
       "\n",
       "                                        long_description  \\\n",
       "13730  Other specific joint derangements of unspecifi...   \n",
       "22501                              Diarrhea, unspecified   \n",
       "20893  Cardiac complications of anesthesia during the...   \n",
       "13975                             Mandibular hyperplasia   \n",
       "36830  Salter-Harris Type III physeal fracture of low...   \n",
       "\n",
       "                                                   label  \n",
       "13730  Other specific joint derangements of shoulder,...  \n",
       "22501                              Diarrhea, unspecified  \n",
       "20893  Cardiac complications of anesthesia during the...  \n",
       "13975                        Major anomalies of jaw size  \n",
       "36830  Salter-Harris Type III physeal fracture of low...  "
      ]
     },
     "execution_count": 8,
     "metadata": {},
     "output_type": "execute_result"
    }
   ],
   "source": [
    "new_df = df.sample(frac=1, random_state=23)\n",
    "print(f\"Size: {len(new_df)}\")\n",
    "new_df.head()"
   ]
  },
  {
   "cell_type": "code",
   "execution_count": 9,
   "metadata": {
    "execution": {
     "iopub.execute_input": "2023-06-01T16:43:53.989147Z",
     "iopub.status.busy": "2023-06-01T16:43:53.988763Z",
     "iopub.status.idle": "2023-06-01T16:43:54.117272Z",
     "shell.execute_reply": "2023-06-01T16:43:54.116255Z",
     "shell.execute_reply.started": "2023-06-01T16:43:53.989118Z"
    }
   },
   "outputs": [
    {
     "data": {
      "text/html": [
       "<div>\n",
       "<style scoped>\n",
       "    .dataframe tbody tr th:only-of-type {\n",
       "        vertical-align: middle;\n",
       "    }\n",
       "\n",
       "    .dataframe tbody tr th {\n",
       "        vertical-align: top;\n",
       "    }\n",
       "\n",
       "    .dataframe thead th {\n",
       "        text-align: right;\n",
       "    }\n",
       "</style>\n",
       "<table border=\"1\" class=\"dataframe\">\n",
       "  <thead>\n",
       "    <tr style=\"text-align: right;\">\n",
       "      <th></th>\n",
       "      <th>prefix_codes</th>\n",
       "      <th>decimal</th>\n",
       "      <th>codes</th>\n",
       "      <th>description</th>\n",
       "      <th>long_description</th>\n",
       "      <th>label</th>\n",
       "    </tr>\n",
       "  </thead>\n",
       "  <tbody>\n",
       "    <tr>\n",
       "      <th>13730</th>\n",
       "      <td>M2481</td>\n",
       "      <td>9</td>\n",
       "      <td>M24819</td>\n",
       "      <td>Oth specific joint derangements of unsp should...</td>\n",
       "      <td>other specific joint derangements of unspecifi...</td>\n",
       "      <td>Other specific joint derangements of shoulder,...</td>\n",
       "    </tr>\n",
       "    <tr>\n",
       "      <th>22501</th>\n",
       "      <td>R197</td>\n",
       "      <td>NaN</td>\n",
       "      <td>R197</td>\n",
       "      <td>Diarrhea, unspecified</td>\n",
       "      <td>diarrhea, unspecified</td>\n",
       "      <td>Diarrhea, unspecified</td>\n",
       "    </tr>\n",
       "    <tr>\n",
       "      <th>20893</th>\n",
       "      <td>O891</td>\n",
       "      <td>NaN</td>\n",
       "      <td>O891</td>\n",
       "      <td>Cardiac complications of anesthesia during the...</td>\n",
       "      <td>cardiac complications of anesthesia during the...</td>\n",
       "      <td>Cardiac complications of anesthesia during the...</td>\n",
       "    </tr>\n",
       "    <tr>\n",
       "      <th>13975</th>\n",
       "      <td>M260</td>\n",
       "      <td>3</td>\n",
       "      <td>M2603</td>\n",
       "      <td>Mandibular hyperplasia</td>\n",
       "      <td>mandibular hyperplasia</td>\n",
       "      <td>Major anomalies of jaw size</td>\n",
       "    </tr>\n",
       "    <tr>\n",
       "      <th>36830</th>\n",
       "      <td>S59032</td>\n",
       "      <td>S</td>\n",
       "      <td>S59032S</td>\n",
       "      <td>Sltr-haris Type III physl fx lower end ulna, l...</td>\n",
       "      <td>salter-harris type iii physeal fracture of low...</td>\n",
       "      <td>Salter-Harris Type III physeal fracture of low...</td>\n",
       "    </tr>\n",
       "  </tbody>\n",
       "</table>\n",
       "</div>"
      ],
      "text/plain": [
       "      prefix_codes decimal    codes  \\\n",
       "13730        M2481       9   M24819   \n",
       "22501         R197     NaN     R197   \n",
       "20893         O891     NaN     O891   \n",
       "13975         M260       3    M2603   \n",
       "36830       S59032       S  S59032S   \n",
       "\n",
       "                                             description  \\\n",
       "13730  Oth specific joint derangements of unsp should...   \n",
       "22501                              Diarrhea, unspecified   \n",
       "20893  Cardiac complications of anesthesia during the...   \n",
       "13975                             Mandibular hyperplasia   \n",
       "36830  Sltr-haris Type III physl fx lower end ulna, l...   \n",
       "\n",
       "                                        long_description  \\\n",
       "13730  other specific joint derangements of unspecifi...   \n",
       "22501                              diarrhea, unspecified   \n",
       "20893  cardiac complications of anesthesia during the...   \n",
       "13975                             mandibular hyperplasia   \n",
       "36830  salter-harris type iii physeal fracture of low...   \n",
       "\n",
       "                                                   label  \n",
       "13730  Other specific joint derangements of shoulder,...  \n",
       "22501                              Diarrhea, unspecified  \n",
       "20893  Cardiac complications of anesthesia during the...  \n",
       "13975                        Major anomalies of jaw size  \n",
       "36830  Salter-Harris Type III physeal fracture of low...  "
      ]
     },
     "execution_count": 9,
     "metadata": {},
     "output_type": "execute_result"
    }
   ],
   "source": [
    "def normalise_text (text):\n",
    "    text = text.lower() # lowercase\n",
    "    text = text.replace(r\"\\#\",\"\") # replaces hashtags\n",
    "    text = text.replace(r\"@\",\"\")\n",
    "    text = text.replace(r\"[^A-Za-z0-9()!?\\'\\`\\\"]\", \" \")\n",
    "    text = text.replace(\"\\s{2,}\", \" \")\n",
    "    return text\n",
    "\n",
    "new_df['long_description'] = new_df['long_description'].apply(normalise_text)\n",
    "new_df.head()"
   ]
  },
  {
   "cell_type": "code",
   "execution_count": 11,
   "metadata": {
    "execution": {
     "iopub.execute_input": "2023-06-01T16:44:33.756049Z",
     "iopub.status.busy": "2023-06-01T16:44:33.755662Z",
     "iopub.status.idle": "2023-06-01T16:44:33.866972Z",
     "shell.execute_reply": "2023-06-01T16:44:33.865942Z",
     "shell.execute_reply.started": "2023-06-01T16:44:33.756021Z"
    }
   },
   "outputs": [
    {
     "name": "stdout",
     "output_type": "stream",
     "text": [
      "(43021, 1) (14341, 1) (14341, 1)\n"
     ]
    }
   ],
   "source": [
    "from sklearn.preprocessing import LabelEncoder\n",
    "from sklearn.model_selection import train_test_split\n",
    "\n",
    "X = new_df[['long_description']]\n",
    "y = new_df['prefix_codes']\n",
    "\n",
    "\n",
    "encoder = LabelEncoder()\n",
    "y = encoder.fit_transform(y)\n",
    "\n",
    "# Split the dataset into a train and temporary set\n",
    "X_temp, X_test, y_temp, y_test = train_test_split(X, y, test_size=0.2, random_state=23)\n",
    "\n",
    "# Split the temporary set into validation and train set\n",
    "X_train, X_val, y_train, y_val = train_test_split(X_temp, y_temp, test_size=0.25, random_state=23)\n",
    "\n",
    "print(X_train.shape, X_val.shape, X_test.shape)"
   ]
  },
  {
   "cell_type": "code",
   "execution_count": 13,
   "metadata": {
    "execution": {
     "iopub.execute_input": "2023-06-01T16:46:52.764750Z",
     "iopub.status.busy": "2023-06-01T16:46:52.763968Z",
     "iopub.status.idle": "2023-06-01T16:46:52.773715Z",
     "shell.execute_reply": "2023-06-01T16:46:52.772591Z",
     "shell.execute_reply.started": "2023-06-01T16:46:52.764711Z"
    }
   },
   "outputs": [],
   "source": [
    "from torch.utils.data import Dataset, DataLoader\n",
    "\n",
    "class CustomDataset(Dataset):\n",
    "    def __init__(self, X, y, tokenizer, max_length):\n",
    "        self.data = []\n",
    "        for i in zip(X, y):\n",
    "            text, target = i[0], i[1]\n",
    "            self.data.append((text, int(target)))\n",
    "            self.tokenizer = tokenizer\n",
    "            self.max_length = max_length\n",
    "            \n",
    "\n",
    "    def __len__(self):\n",
    "        return len(self.data)\n",
    "\n",
    "    def __getitem__(self, idx):\n",
    "        text, target = self.data[idx]\n",
    "        inputs = self.tokenizer(text, padding='max_length', truncation=True, \n",
    "                                max_length=self.max_length, return_tensors='pt')\n",
    "        inputs_ids = inputs['input_ids'].squeeze(0)\n",
    "        attention_masks = inputs['attention_mask'].squeeze(0)\n",
    "        return inputs_ids, attention_masks, target "
   ]
  },
  {
   "cell_type": "code",
   "execution_count": 14,
   "metadata": {
    "execution": {
     "iopub.execute_input": "2023-06-01T16:47:03.082335Z",
     "iopub.status.busy": "2023-06-01T16:47:03.081961Z",
     "iopub.status.idle": "2023-06-01T16:47:47.263352Z",
     "shell.execute_reply": "2023-06-01T16:47:47.262156Z",
     "shell.execute_reply.started": "2023-06-01T16:47:03.082309Z"
    }
   },
   "outputs": [
    {
     "name": "stdout",
     "output_type": "stream",
     "text": [
      "Max sentence length:  43\n"
     ]
    }
   ],
   "source": [
    "sentences = new_df[\"long_description\"]\n",
    "sentences_tokenized = [tokenizer.tokenize(sentence) for sentence in sentences ]\n",
    "\n",
    "print('Max sentence length: ', max([len(sen) for sen in sentences_tokenized]))\n",
    "max_len = max([len(sen) for sen in sentences_tokenized])"
   ]
  },
  {
   "cell_type": "code",
   "execution_count": 15,
   "metadata": {
    "execution": {
     "iopub.execute_input": "2023-06-01T16:47:47.265994Z",
     "iopub.status.busy": "2023-06-01T16:47:47.265420Z",
     "iopub.status.idle": "2023-06-01T16:47:47.272665Z",
     "shell.execute_reply": "2023-06-01T16:47:47.271591Z",
     "shell.execute_reply.started": "2023-06-01T16:47:47.265962Z"
    }
   },
   "outputs": [],
   "source": [
    "train_dataset = CustomDataset(X_train, y_train, tokenizer, max_len)\n",
    "val_dataset = CustomDataset(X_val, y_val, tokenizer, max_len)\n",
    "\n",
    "batch_size = 4\n",
    "train_dataloader = DataLoader(train_dataset, batch_size=batch_size, shuffle=True)\n",
    "val_dataloader = DataLoader(val_dataset, batch_size=batch_size, shuffle=True)"
   ]
  },
  {
   "cell_type": "code",
   "execution_count": null,
   "metadata": {},
   "outputs": [],
   "source": []
  }
 ],
 "metadata": {
  "kernelspec": {
   "display_name": "Python 3 (ipykernel)",
   "language": "python",
   "name": "python3"
  },
  "language_info": {
   "codemirror_mode": {
    "name": "ipython",
    "version": 3
   },
   "file_extension": ".py",
   "mimetype": "text/x-python",
   "name": "python",
   "nbconvert_exporter": "python",
   "pygments_lexer": "ipython3",
   "version": "3.10.6"
  }
 },
 "nbformat": 4,
 "nbformat_minor": 4
}
