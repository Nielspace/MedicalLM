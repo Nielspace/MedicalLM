{
  "nbformat": 4,
  "nbformat_minor": 0,
  "metadata": {
    "colab": {
      "provenance": []
    },
    "kernelspec": {
      "name": "python3",
      "display_name": "Python 3"
    },
    "language_info": {
      "name": "python"
    }
  },
  "cells": [
    {
      "cell_type": "code",
      "execution_count": 1,
      "metadata": {
        "colab": {
          "base_uri": "https://localhost:8080/"
        },
        "id": "eYvKUJs2t5gQ",
        "outputId": "6e3f6dad-d137-4390-8c2b-e29ede4b8b48"
      },
      "outputs": [
        {
          "output_type": "stream",
          "name": "stdout",
          "text": [
            "Collecting openai\n",
            "  Downloading openai-0.27.8-py3-none-any.whl (73 kB)\n",
            "\u001b[?25l     \u001b[90m━━━━━━━━━━━━━━━━━━━━━━━━━━━━━━━━━━━━━━━━\u001b[0m \u001b[32m0.0/73.6 kB\u001b[0m \u001b[31m?\u001b[0m eta \u001b[36m-:--:--\u001b[0m\r\u001b[2K     \u001b[90m━━━━━━━━━━━━━━━━━━━━━━━━━━━━━━━━━━━━━━━━\u001b[0m \u001b[32m73.6/73.6 kB\u001b[0m \u001b[31m5.7 MB/s\u001b[0m eta \u001b[36m0:00:00\u001b[0m\n",
            "\u001b[?25hRequirement already satisfied: requests>=2.20 in /usr/local/lib/python3.10/dist-packages (from openai) (2.27.1)\n",
            "Requirement already satisfied: tqdm in /usr/local/lib/python3.10/dist-packages (from openai) (4.65.0)\n",
            "Requirement already satisfied: aiohttp in /usr/local/lib/python3.10/dist-packages (from openai) (3.8.4)\n",
            "Requirement already satisfied: urllib3<1.27,>=1.21.1 in /usr/local/lib/python3.10/dist-packages (from requests>=2.20->openai) (1.26.16)\n",
            "Requirement already satisfied: certifi>=2017.4.17 in /usr/local/lib/python3.10/dist-packages (from requests>=2.20->openai) (2023.5.7)\n",
            "Requirement already satisfied: charset-normalizer~=2.0.0 in /usr/local/lib/python3.10/dist-packages (from requests>=2.20->openai) (2.0.12)\n",
            "Requirement already satisfied: idna<4,>=2.5 in /usr/local/lib/python3.10/dist-packages (from requests>=2.20->openai) (3.4)\n",
            "Requirement already satisfied: attrs>=17.3.0 in /usr/local/lib/python3.10/dist-packages (from aiohttp->openai) (23.1.0)\n",
            "Requirement already satisfied: multidict<7.0,>=4.5 in /usr/local/lib/python3.10/dist-packages (from aiohttp->openai) (6.0.4)\n",
            "Requirement already satisfied: async-timeout<5.0,>=4.0.0a3 in /usr/local/lib/python3.10/dist-packages (from aiohttp->openai) (4.0.2)\n",
            "Requirement already satisfied: yarl<2.0,>=1.0 in /usr/local/lib/python3.10/dist-packages (from aiohttp->openai) (1.9.2)\n",
            "Requirement already satisfied: frozenlist>=1.1.1 in /usr/local/lib/python3.10/dist-packages (from aiohttp->openai) (1.3.3)\n",
            "Requirement already satisfied: aiosignal>=1.1.2 in /usr/local/lib/python3.10/dist-packages (from aiohttp->openai) (1.3.1)\n",
            "Installing collected packages: openai\n",
            "Successfully installed openai-0.27.8\n"
          ]
        }
      ],
      "source": [
        "!pip install openai"
      ]
    },
    {
      "cell_type": "code",
      "source": [
        "import os\n",
        "import openai\n",
        "\n",
        "import json"
      ],
      "metadata": {
        "id": "WF-OTzsht_88"
      },
      "execution_count": 2,
      "outputs": []
    },
    {
      "cell_type": "code",
      "source": [
        "with open(\"openai_api.json\") as json_file:\n",
        "    data = json.load(json_file)\n",
        "\n",
        "openai.api_key = data[0][\"key\"][0]"
      ],
      "metadata": {
        "id": "fn5jTyz_uF09"
      },
      "execution_count": 17,
      "outputs": []
    },
    {
      "cell_type": "code",
      "source": [
        "def completion(prompt:str, model=\"gpt-3.5-turbo-16k-0613\"):\n",
        "  reply = openai.ChatCompletion.create(\n",
        "      model=model,\n",
        "      messages=[\n",
        "          {\"role\": \"user\", \"content\": prompt}\n",
        "          ]\n",
        "      )\n",
        "  subsidiary_info = reply\n",
        "  return reply.choices[0]['message']['content'], subsidiary_info\n"
      ],
      "metadata": {
        "id": "wWNPIPiJvqDq"
      },
      "execution_count": 18,
      "outputs": []
    },
    {
      "cell_type": "code",
      "source": [
        "text = \"\"\"\n",
        "        Read the entire notes below and frame '10 prompts' to generate similar synthetic data for ICD10 codes:\n",
        "        -------------\n",
        "        Procedure: The patient was prepared and taken to the operating room for surgery. After induction of general anesthesia and appropriate prepping and draping of the surgical site, the procedure was initiated.\n",
        "        A longitudinal incision was made over the affected area, exposing the underlying tissue layers. Deep dissection was performed, and the surgical site was carefully explored.\n",
        "\n",
        "        Operative Findings:\n",
        "        Upon exploration, it was noted that the patient presented with an infected joint, specifically involving the left knee. The knee joint was found to be inflamed, and joint fluid analysis confirmed the presence of infectious agents consistent with a septic arthritis diagnosis. The etiology was suspected to be related to a hematogenous spread from a distant focus of infection.\n",
        "\n",
        "        Procedure Details:\n",
        "        The infected joint was thoroughly irrigated using sterile saline solution to remove debris, pus, and any infectious agents present. A meticulous debridement was then performed to remove any necrotic tissue, foreign bodies, or synovitis.\n",
        "        A specimen was sent for culture and sensitivity analysis to identify the causative organism responsible for the infection.\n",
        "\n",
        "        After completing the debridement, the joint capsule was reapproximated using absorbable sutures to close the incision. Appropriate sterile dressings were applied over the surgical site.\n",
        "\n",
        "        Postoperative Course:\n",
        "        The patient was transferred to the recovery area in stable condition. Postoperatively, antibiotics were administered based on the susceptibility of the identified organism. Close monitoring of the patient's vital signs, pain level, and range of motion was initiated.\n",
        "\n",
        "        Pathology Report:\n",
        "        The pathology report revealed the presence of infectious agents, confirming the diagnosis of septic arthritis.\n",
        "\n",
        "        ICD-10 Code:\n",
        "        ICD-10 code M023.1 - Infectious arthropathy due to other specified bacteria, left knee.\n",
        "\n",
        "        Summary:\n",
        "        In summary, the patient underwent a left knee arthroscopy with irrigation and debridement due to septic arthritis caused by specified bacteria. The procedure was performed successfully without any immediate complications. The patient's condition will be closely followed postoperatively to ensure proper healing and resolution of the infection.\n",
        "       \"\"\"\n",
        "output, info = completion(text)"
      ],
      "metadata": {
        "id": "iaoX-O-PxyY8"
      },
      "execution_count": 19,
      "outputs": []
    },
    {
      "cell_type": "code",
      "source": [
        "print(output)"
      ],
      "metadata": {
        "colab": {
          "base_uri": "https://localhost:8080/"
        },
        "id": "vYRig_2vy5MI",
        "outputId": "8d9e1fa2-6019-4db1-8045-78c017b536b4"
      },
      "execution_count": 20,
      "outputs": [
        {
          "output_type": "stream",
          "name": "stdout",
          "text": [
            "Prompts to generate synthetic data for ICD-10 codes related to the given notes:\n",
            "\n",
            "1. Procedure details: \n",
            "- What was the specific surgical procedure performed?\n",
            "- How was the infected joint irrigated and cleaned?\n",
            "- Were any tissues or foreign bodies removed during the debridement?\n",
            "\n",
            "2. Operative findings:\n",
            "- Which joint was affected by the infection?\n",
            "- Was the joint inflamed?\n",
            "- Was septic arthritis confirmed? If so, by what means?\n",
            "\n",
            "3. Etiology:\n",
            "- What was suspected to be the source of the infection?\n",
            "- Was it related to a hematogenous spread?\n",
            "\n",
            "4. Postoperative care:\n",
            "- Where was the patient transferred after surgery?\n",
            "- What antibiotics were administered to the patient?\n",
            "- What vital signs and parameters were monitored postoperatively?\n",
            "\n",
            "5. Pathology report:\n",
            "- What did the pathology report reveal about the presence of infectious agents?\n",
            "- Did it confirm the diagnosis of septic arthritis?\n",
            "\n",
            "6. ICD-10 Code:\n",
            "- What is the specific ICD-10 code assigned to this case?\n",
            "- What does the code represent in terms of infectious arthropathy and the affected joint?\n",
            "\n",
            "7. Summary:\n",
            "- What was the overall outcome of the procedure?\n",
            "- Were there any complications during or after the surgery?\n",
            "- How will the patient be monitored for healing and resolution of the infection?\n"
          ]
        }
      ]
    },
    {
      "cell_type": "code",
      "source": [
        "text = \"\"\"\n",
        "        Read the entire notes below and frame '10 prompts' to generate similar synthetic data samples with 50-70 words\n",
        "        pertaining to ICD10 M23 codes:\n",
        "        -------------\n",
        "        The patient was given 2 grams of IV Ancef, IV piggyback, prior to coming back to the operating room. Once he was back, he was transferred from the OR stretcher onto the operating table without complication. After induction of general anesthesia, LMA was placed by the anesthesia department. A well-padded tourniquet was placed on the proximal aspect of the left thigh. The entire left lower extremity was prepped and draped in the sterile fashion with a double DuraPrep scrub. Routine sterile draping technique was used. An Esmarch was used to exsanguinate the left lower extremity prior to inflation of the tourniquet to 300 mmHg. A double DuraPrep scrub was performed. Routine sterile draping technique was used. The patient was brought into the laminar flow room and laminar flow garb was worn by all operating room personnel. A midline incision was made over the left knee. Medial and lateral flaps were developed. The medial parapatellar approach was used to enter the knee joint. The anteromedial takedown was performed about the anteromedial tibia. The patella was everted. The knee was fully flexed and the retropatellar fat pad was excised. The anterior cruciate ligament was transected. A 9.5 drillbit was used to open up the distal femoral canal. A long intermedullary rod was placed. A 5-degree valgus alignment position was used. The distal cutting block was pinned in appropriated alignment. The distal cut was made taking 10-12 mm of bone off the distal femur. The raw surface of the distal femur was sized to be a size #7. A size #7, 4-in-1 cutting block was pinned in neutral rotation. Anterior and posterior cuts were made and then anterior and posterior chamfer cuts were made in a routine fashion with an oscillating saw.\n",
        "        The patella was then evaluated and 2 Lewin clamps were used to stabilize the patella. Freehand oscillating saw cut was made in the patella, taking 10 mm of bone from the raw surface of the patella sized to be at #35. A #35 template was placed in the superomedial position. Drill holes were made and a #35 patella trial was placed. Two Homans were used to expose the tibia, one posterior and one lateral. The mediolateral meniscus was excised. All bleeding points were controlled with cautery. A 9.5 drill bit was used to open the tibial canal. A long intermedullary rod was placed down the canal. Proximal tibial cutting block was pinned. A cut was made perpendicular to the long axis of the tibia and 10 mm of bone was taken off the high side laterally and about 2 mm medially. The cut was made, the raw surface of the tibia sized to be at size #7. All osteophytes were removed from the posterior femur with an osteotome and mallet. A size #7 tibial trial was placed with a trial #11 deep-dish liner and a trial #7 femoral component. The knee was reduced and taken through a full range of motion. There was mild tightness to the medial structures and a medial release was performed of the pes anserine tendon. The instability was equal with valgus and varus stress in both full extension and full flexion. All trial components were removed. Copious amount of normal saline was used to irrigate all the raw bony surfaces. A cement restrictor was placed down the tibial canal about 4 cm. Two packets of the DePuy 1 cement were mixed on the back table.\n",
        "        Once the cement was in its doughy state, it was infiltrated in the tibial canal and on the tibial plateau surface. A final size #7 tibial component was impacted into place. Excess cement was removed with a Freer elevator. The final size #11 deep-dish polyethylene liner was impacted into the tibial tray until it was fully seated. Cement was then coated on the raw surface of the femur, and the final size #7 Oxinium femoral component was impacted into place and excess cement was removed with a Freer elevator. The knee was taken out to a fully extended position. The cement was coated on the raw surface of the patella, and the final size #35 patella button was placed and held with a patella clamp. Excess cement was removed with a Freer elevator. Once the cement was fully hardened, the tourniquet was deflated after 44 minutes. All bleeding points were controlled with cautery. There was 150 cc of blood loss. The deep fascia was closed over a ConstaVac Stryker drain. There was normal patellofemoral tracking and full range of motion of the knee with excellent stability. The deep fascia was closed with interrupted #0 Vicryl figure-of-eight sutures, subcutaneous tissues were closed with interrupted inverted #2-0 Vicryl sutures, and the skin was reapproximated with staples. Dressings were placed with Xeroform, 4 x 4, ABD, and soft bulky dressing with double 6-inch Ace bandage and a cold pack. After reversal of general anesthesia, the patient was extubated in the operating room and transferred to the recovery room in a stable condition.\n",
        "\n",
        "       \"\"\"\n",
        "output, info = completion(text)"
      ],
      "metadata": {
        "id": "UcCuovpNqn_l"
      },
      "execution_count": 28,
      "outputs": []
    },
    {
      "cell_type": "code",
      "source": [
        "print(output)"
      ],
      "metadata": {
        "colab": {
          "base_uri": "https://localhost:8080/"
        },
        "id": "PvXxNCRlo6A0",
        "outputId": "ee7830a8-7a43-4a2c-a55e-341d390be1bf"
      },
      "execution_count": 29,
      "outputs": [
        {
          "output_type": "stream",
          "name": "stdout",
          "text": [
            "1. The patient received 2 grams of IV Ancef prior to entering the operating room.\n",
            "2. A well-padded tourniquet was placed on the left thigh.\n",
            "3. The left lower extremity was prepped and draped in a sterile fashion.\n",
            "4. A midline incision was made over the left knee.\n",
            "5. The anterior cruciate ligament was transected.\n",
            "6. The distal femur was cut, removing 10-12 mm of bone.\n",
            "7. The patella was stabilized with Lewin clamps and a cut was made, removing 10 mm of bone.\n",
            "8. The mediolateral meniscus was excised.\n",
            "9. The tibia was cut, removing 10 mm of bone.\n",
            "10. Cement was used to secure the final components in place and the tourniquet was deflated after 44 minutes.\n"
          ]
        }
      ]
    },
    {
      "cell_type": "code",
      "source": [
        "text = \"\"\"\n",
        "       Frame 10 prompts to generate diverse synthetic operative notes pertaining to ICD10 codes.\n",
        "       \"\"\"\n",
        "output, info = completion(text, model=\"gpt-4\")"
      ],
      "metadata": {
        "id": "leKf3nF1o8hD"
      },
      "execution_count": 30,
      "outputs": []
    },
    {
      "cell_type": "code",
      "source": [
        "print(output)"
      ],
      "metadata": {
        "colab": {
          "base_uri": "https://localhost:8080/"
        },
        "id": "-uG0msWmr6g-",
        "outputId": "a57de27c-2b3b-4713-92ae-dc843cbbf551"
      },
      "execution_count": 32,
      "outputs": [
        {
          "output_type": "stream",
          "name": "stdout",
          "text": [
            "1. Prompt: \n",
            "Generate a synthetic operative note for a patient admitted with a diagnosis of ICD10 code K80 - \"Cholelithiasis\" (gallstones).\n",
            "\n",
            "2. Prompt: \n",
            "Create an operative note for an individual who has undergone a procedure related to ICD10 code I25 - \"Chronic ischemic heart disease\".\n",
            "\n",
            "3. Prompt: \n",
            "Write a surgical note for a patient who has been diagnosed with ICD10 code M16 - \"Osteoarthritis of hip\".\n",
            "\n",
            "4. Prompt:\n",
            "Generate a synthetic operative note for a procedure conducted on a patient with an ICD10 code M17 - \"Osteoarthritis of the knee\".\n",
            "\n",
            "5. Prompt: \n",
            "Formulate an operative report for a patient who has been treated for ICD10 code E10 - \"Type 1 diabetes mellitus\".\n",
            "\n",
            "6. Prompt:\n",
            "Provide a surgical summary for a patient diagnosed with ICD10 code I10 - \"Essential (primary) hypertension\".\n",
            "\n",
            "7. Prompt:\n",
            "Write an operative note for a surgery linked with ICD10 code K21 - \"Gastro-esophageal reflux disease\".\n",
            "\n",
            "8. Prompt:\n",
            "Generate a surgical report for a procedure related to an individual presenting with an ICD10 code E78.5 - \"Hyperlipidemia, unspecified\".\n",
            "\n",
            "9. Prompt:\n",
            "Develop an operative note for a patient diagnosed with an ICD10 code C61 - \"Malignant neoplasm of prostate\".\n",
            "\n",
            "10. Prompt:\n",
            "Produce a detailed operative note for a patient who underwent a procedure relevant to ICD10 code J45 - \"Asthma\".\n"
          ]
        }
      ]
    },
    {
      "cell_type": "code",
      "source": [],
      "metadata": {
        "id": "znsy3po-r8m_"
      },
      "execution_count": null,
      "outputs": []
    }
  ]
}