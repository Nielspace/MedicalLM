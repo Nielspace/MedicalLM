{
 "cells": [
  {
   "cell_type": "code",
   "execution_count": 1,
   "id": "b8a583af",
   "metadata": {},
   "outputs": [],
   "source": [
    "import os\n",
    "from glob import glob"
   ]
  },
  {
   "cell_type": "code",
   "execution_count": 2,
   "id": "a6094fe6",
   "metadata": {},
   "outputs": [
    {
     "data": {
      "text/plain": [
       "['.DS_Store',\n",
       " 'requirements.txt',\n",
       " 'README.md',\n",
       " 'dataloader.py',\n",
       " '.ipynb_checkpoints',\n",
       " '.git',\n",
       " 'data',\n",
       " 'notebooks',\n",
       " 'Runs.ipynb']"
      ]
     },
     "execution_count": 2,
     "metadata": {},
     "output_type": "execute_result"
    }
   ],
   "source": [
    "os.listdir()"
   ]
  },
  {
   "cell_type": "code",
   "execution_count": 31,
   "id": "f57988bb",
   "metadata": {},
   "outputs": [],
   "source": [
    "DATA_PATH = \"data\"\n",
    "\n",
    "def csv_concat(dir):\n",
    "    all_files = []\n",
    "    for root, dirs, files in os.walk(dir):\n",
    "        for name in files:\n",
    "            all_files.append(os.path.join(root, name))\n",
    "            \n",
    "    csv_files = list(filter(lambda f: f.endswith('.csv'), all_files))\n",
    "    \n",
    "    return csv_files\n",
    "\n",
    "csv_files = csv_concat(DATA_PATH)"
   ]
  },
  {
   "cell_type": "code",
   "execution_count": 8,
   "id": "77de009a",
   "metadata": {},
   "outputs": [],
   "source": [
    "import pandas as pd"
   ]
  },
  {
   "cell_type": "code",
   "execution_count": 9,
   "id": "e11ab13e",
   "metadata": {},
   "outputs": [],
   "source": [
    "# Read CSV files from List\n",
    "df = pd.concat(map(pd.read_csv, csv_files))\n"
   ]
  },
  {
   "cell_type": "code",
   "execution_count": 56,
   "id": "d992f062",
   "metadata": {},
   "outputs": [
    {
     "name": "stdout",
     "output_type": "stream",
     "text": [
      "(16779, 3)\n"
     ]
    },
    {
     "data": {
      "text/html": [
       "<div>\n",
       "<style scoped>\n",
       "    .dataframe tbody tr th:only-of-type {\n",
       "        vertical-align: middle;\n",
       "    }\n",
       "\n",
       "    .dataframe tbody tr th {\n",
       "        vertical-align: top;\n",
       "    }\n",
       "\n",
       "    .dataframe thead th {\n",
       "        text-align: right;\n",
       "    }\n",
       "</style>\n",
       "<table border=\"1\" class=\"dataframe\">\n",
       "  <thead>\n",
       "    <tr style=\"text-align: right;\">\n",
       "      <th></th>\n",
       "      <th>notes</th>\n",
       "      <th>codes</th>\n",
       "      <th>desc</th>\n",
       "    </tr>\n",
       "  </thead>\n",
       "  <tbody>\n",
       "    <tr>\n",
       "      <th>20</th>\n",
       "      <td>5. Patient with Other Myositis developed a sev...</td>\n",
       "      <td>M60.8</td>\n",
       "      <td>Other myositis</td>\n",
       "    </tr>\n",
       "    <tr>\n",
       "      <th>379</th>\n",
       "      <td>10. Operative Note: A surgical intervention, a...</td>\n",
       "      <td>M40.1</td>\n",
       "      <td>Other secondary kyphosis</td>\n",
       "    </tr>\n",
       "    <tr>\n",
       "      <th>1243</th>\n",
       "      <td>4. Procedure: Arthroscopic hip debridement. In...</td>\n",
       "      <td>M02.0</td>\n",
       "      <td>Arthropathy following intestinal bypass</td>\n",
       "    </tr>\n",
       "    <tr>\n",
       "      <th>13</th>\n",
       "      <td>5. Operative Note: The patient with spinal ent...</td>\n",
       "      <td>M46.0</td>\n",
       "      <td>Spinal enthesopathy</td>\n",
       "    </tr>\n",
       "    <tr>\n",
       "      <th>3751</th>\n",
       "      <td>2. synovitis, erosions, and mycotic invasion w...</td>\n",
       "      <td>M01.6</td>\n",
       "      <td>Arthritis in mycoses</td>\n",
       "    </tr>\n",
       "  </tbody>\n",
       "</table>\n",
       "</div>"
      ],
      "text/plain": [
       "                                                  notes  codes  \\\n",
       "20    5. Patient with Other Myositis developed a sev...  M60.8   \n",
       "379   10. Operative Note: A surgical intervention, a...  M40.1   \n",
       "1243  4. Procedure: Arthroscopic hip debridement. In...  M02.0   \n",
       "13    5. Operative Note: The patient with spinal ent...  M46.0   \n",
       "3751  2. synovitis, erosions, and mycotic invasion w...  M01.6   \n",
       "\n",
       "                                         desc  \n",
       "20                            Other myositis   \n",
       "379                  Other secondary kyphosis  \n",
       "1243  Arthropathy following intestinal bypass  \n",
       "13                        Spinal enthesopathy  \n",
       "3751                     Arthritis in mycoses  "
      ]
     },
     "execution_count": 56,
     "metadata": {},
     "output_type": "execute_result"
    }
   ],
   "source": [
    "def file_structuring(csv_files:list()):\n",
    "    code_file_dict = dict()\n",
    "    num_file = 0\n",
    "\n",
    "\n",
    "    for i, f in enumerate(csv_files):\n",
    "        df = pd.read_csv(f)\n",
    "        p1, p2, p3 = (df[['notes', 'code', 'desc']], \n",
    "                      df[['aug_text', 'code', 'desc']], \n",
    "                      df[['paraphrase', 'code', 'desc']])\n",
    "\n",
    "        p1.columns = ['notes', 'codes', 'desc']\n",
    "        p2.columns = ['notes', 'codes', 'desc']\n",
    "        p3.columns = ['notes', 'codes', 'desc']\n",
    "\n",
    "        df = pd.concat([p1, p2, p3], axis=0, ignore_index=True)\n",
    "        df = df[['notes', 'codes', 'desc']]\n",
    "        code_file_dict[i + 1] = df\n",
    "\n",
    "    df = pd.concat(code_file_dict.values())\n",
    "    \n",
    "    return df\n",
    "    \n",
    "df = file_structuring(csv_files)\n",
    "df = df.sample(frac=1)\n",
    "print(df.shape)\n",
    "df.head()"
   ]
  },
  {
   "cell_type": "code",
   "execution_count": 54,
   "id": "ff86fb00",
   "metadata": {},
   "outputs": [
    {
     "data": {
      "text/html": [
       "<div>\n",
       "<style scoped>\n",
       "    .dataframe tbody tr th:only-of-type {\n",
       "        vertical-align: middle;\n",
       "    }\n",
       "\n",
       "    .dataframe tbody tr th {\n",
       "        vertical-align: top;\n",
       "    }\n",
       "\n",
       "    .dataframe thead th {\n",
       "        text-align: right;\n",
       "    }\n",
       "</style>\n",
       "<table border=\"1\" class=\"dataframe\">\n",
       "  <thead>\n",
       "    <tr style=\"text-align: right;\">\n",
       "      <th></th>\n",
       "      <th>notes</th>\n",
       "      <th>codes</th>\n",
       "      <th>desc</th>\n",
       "    </tr>\n",
       "  </thead>\n",
       "  <tbody>\n",
       "    <tr>\n",
       "      <th>165</th>\n",
       "      <td>6. Operative Note: A joint resurfacing procedu...</td>\n",
       "      <td>M46.2</td>\n",
       "      <td>Osteomyelitis of vertebra</td>\n",
       "    </tr>\n",
       "    <tr>\n",
       "      <th>189</th>\n",
       "      <td>The surgical intervention was performed on a p...</td>\n",
       "      <td>M62.3</td>\n",
       "      <td>Immobility syndrome (paraplegic)</td>\n",
       "    </tr>\n",
       "    <tr>\n",
       "      <th>207</th>\n",
       "      <td>\"Contracture release surgery was performed on ...</td>\n",
       "      <td>M62.4</td>\n",
       "      <td>Contracture of muscle</td>\n",
       "    </tr>\n",
       "    <tr>\n",
       "      <th>48</th>\n",
       "      <td>5. Operative Note: Sacroiliitis Sacroiliac Joi...</td>\n",
       "      <td>M46.1</td>\n",
       "      <td>Sacroiliitis, not elsewhere classified</td>\n",
       "    </tr>\n",
       "    <tr>\n",
       "      <th>190</th>\n",
       "      <td>There are 9. A surgical intervention was used ...</td>\n",
       "      <td>M46.2</td>\n",
       "      <td>Osteomyelitis of vertebra</td>\n",
       "    </tr>\n",
       "    <tr>\n",
       "      <th>...</th>\n",
       "      <td>...</td>\n",
       "      <td>...</td>\n",
       "      <td>...</td>\n",
       "    </tr>\n",
       "    <tr>\n",
       "      <th>406</th>\n",
       "      <td>4.</td>\n",
       "      <td>M45</td>\n",
       "      <td>Ankylosing spondylitis</td>\n",
       "    </tr>\n",
       "    <tr>\n",
       "      <th>3470</th>\n",
       "      <td>The procedure consisted of an operation, thoro...</td>\n",
       "      <td>M01.3</td>\n",
       "      <td>Arthritis in other bacterial diseases classifi...</td>\n",
       "    </tr>\n",
       "    <tr>\n",
       "      <th>161</th>\n",
       "      <td>1. AS patient diagnosed with mild disease seve...</td>\n",
       "      <td>M45</td>\n",
       "      <td>Ankylosing spondylitis</td>\n",
       "    </tr>\n",
       "    <tr>\n",
       "      <th>522</th>\n",
       "      <td>3. A minimally-invagant procedure was carried ...</td>\n",
       "      <td>M40.4</td>\n",
       "      <td>Other lordosis</td>\n",
       "    </tr>\n",
       "    <tr>\n",
       "      <th>499</th>\n",
       "      <td>There are 8. There was a surgical correction o...</td>\n",
       "      <td>M41.0</td>\n",
       "      <td>Infantile idiopathic scoliosis</td>\n",
       "    </tr>\n",
       "  </tbody>\n",
       "</table>\n",
       "<p>2426 rows × 3 columns</p>\n",
       "</div>"
      ],
      "text/plain": [
       "                                                  notes  codes  \\\n",
       "165   6. Operative Note: A joint resurfacing procedu...  M46.2   \n",
       "189   The surgical intervention was performed on a p...  M62.3   \n",
       "207   \"Contracture release surgery was performed on ...  M62.4   \n",
       "48    5. Operative Note: Sacroiliitis Sacroiliac Joi...  M46.1   \n",
       "190   There are 9. A surgical intervention was used ...  M46.2   \n",
       "...                                                 ...    ...   \n",
       "406                                                  4.    M45   \n",
       "3470  The procedure consisted of an operation, thoro...  M01.3   \n",
       "161   1. AS patient diagnosed with mild disease seve...    M45   \n",
       "522   3. A minimally-invagant procedure was carried ...  M40.4   \n",
       "499   There are 8. There was a surgical correction o...  M41.0   \n",
       "\n",
       "                                                   desc  \n",
       "165                           Osteomyelitis of vertebra  \n",
       "189                   Immobility syndrome (paraplegic)   \n",
       "207                               Contracture of muscle  \n",
       "48               Sacroiliitis, not elsewhere classified  \n",
       "190                           Osteomyelitis of vertebra  \n",
       "...                                                 ...  \n",
       "406                              Ankylosing spondylitis  \n",
       "3470  Arthritis in other bacterial diseases classifi...  \n",
       "161                              Ankylosing spondylitis  \n",
       "522                                      Other lordosis  \n",
       "499                      Infantile idiopathic scoliosis  \n",
       "\n",
       "[2426 rows x 3 columns]"
      ]
     },
     "execution_count": 54,
     "metadata": {},
     "output_type": "execute_result"
    }
   ],
   "source": [
    "df[df.duplicated(['notes'], keep=False)]"
   ]
  },
  {
   "cell_type": "code",
   "execution_count": 50,
   "id": "e7ab441d",
   "metadata": {},
   "outputs": [
    {
     "data": {
      "text/plain": [
       "63"
      ]
     },
     "execution_count": 50,
     "metadata": {},
     "output_type": "execute_result"
    }
   ],
   "source": [
    "len(df.codes.unique())"
   ]
  },
  {
   "cell_type": "code",
   "execution_count": null,
   "id": "b7918163",
   "metadata": {},
   "outputs": [],
   "source": []
  }
 ],
 "metadata": {
  "kernelspec": {
   "display_name": "Python 3 (ipykernel)",
   "language": "python",
   "name": "python3"
  },
  "language_info": {
   "codemirror_mode": {
    "name": "ipython",
    "version": 3
   },
   "file_extension": ".py",
   "mimetype": "text/x-python",
   "name": "python",
   "nbconvert_exporter": "python",
   "pygments_lexer": "ipython3",
   "version": "3.10.6"
  }
 },
 "nbformat": 4,
 "nbformat_minor": 5
}
