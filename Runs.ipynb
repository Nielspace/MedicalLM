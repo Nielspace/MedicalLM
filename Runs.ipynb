{
 "cells": [
  {
   "cell_type": "code",
   "execution_count": 8,
   "id": "068da5df",
   "metadata": {},
   "outputs": [],
   "source": [
    "import dataloader\n",
    "from textaug import text_aug\n",
    "from tqdm.auto import tqdm"
   ]
  },
  {
   "cell_type": "code",
   "execution_count": 2,
   "id": "82844efb",
   "metadata": {},
   "outputs": [],
   "source": [
    "file_list = dataloader.csv_concat(dataloader.DATA_PATH)\n",
    "df = dataloader.file_structuring(file_list)"
   ]
  },
  {
   "cell_type": "code",
   "execution_count": 3,
   "id": "755c1d2d",
   "metadata": {},
   "outputs": [
    {
     "data": {
      "text/html": [
       "<div>\n",
       "<style scoped>\n",
       "    .dataframe tbody tr th:only-of-type {\n",
       "        vertical-align: middle;\n",
       "    }\n",
       "\n",
       "    .dataframe tbody tr th {\n",
       "        vertical-align: top;\n",
       "    }\n",
       "\n",
       "    .dataframe thead th {\n",
       "        text-align: right;\n",
       "    }\n",
       "</style>\n",
       "<table border=\"1\" class=\"dataframe\">\n",
       "  <thead>\n",
       "    <tr style=\"text-align: right;\">\n",
       "      <th></th>\n",
       "      <th>notes</th>\n",
       "      <th>codes</th>\n",
       "      <th>desc</th>\n",
       "    </tr>\n",
       "  </thead>\n",
       "  <tbody>\n",
       "    <tr>\n",
       "      <th>0</th>\n",
       "      <td>Patient underwent surgical intervention for St...</td>\n",
       "      <td>M00.0</td>\n",
       "      <td>Staphylococcal arthritis and polyarthritis</td>\n",
       "    </tr>\n",
       "    <tr>\n",
       "      <th>1</th>\n",
       "      <td>Operative note: Patient presented with Staphyl...</td>\n",
       "      <td>M00.0</td>\n",
       "      <td>Staphylococcal arthritis and polyarthritis</td>\n",
       "    </tr>\n",
       "    <tr>\n",
       "      <th>2</th>\n",
       "      <td>Operative intervention performed for Staphylo...</td>\n",
       "      <td>M00.0</td>\n",
       "      <td>Staphylococcal arthritis and polyarthritis</td>\n",
       "    </tr>\n",
       "    <tr>\n",
       "      <th>3</th>\n",
       "      <td>Patient underwent surgical management for Stap...</td>\n",
       "      <td>M00.0</td>\n",
       "      <td>Staphylococcal arthritis and polyarthritis</td>\n",
       "    </tr>\n",
       "    <tr>\n",
       "      <th>4</th>\n",
       "      <td>Surgical intervention performed for Staphyloco...</td>\n",
       "      <td>M00.0</td>\n",
       "      <td>Staphylococcal arthritis and polyarthritis</td>\n",
       "    </tr>\n",
       "  </tbody>\n",
       "</table>\n",
       "</div>"
      ],
      "text/plain": [
       "                                               notes  codes  \\\n",
       "0  Patient underwent surgical intervention for St...  M00.0   \n",
       "1  Operative note: Patient presented with Staphyl...  M00.0   \n",
       "2   Operative intervention performed for Staphylo...  M00.0   \n",
       "3  Patient underwent surgical management for Stap...  M00.0   \n",
       "4  Surgical intervention performed for Staphyloco...  M00.0   \n",
       "\n",
       "                                         desc  \n",
       "0  Staphylococcal arthritis and polyarthritis  \n",
       "1  Staphylococcal arthritis and polyarthritis  \n",
       "2  Staphylococcal arthritis and polyarthritis  \n",
       "3  Staphylococcal arthritis and polyarthritis  \n",
       "4  Staphylococcal arthritis and polyarthritis  "
      ]
     },
     "execution_count": 3,
     "metadata": {},
     "output_type": "execute_result"
    }
   ],
   "source": [
    "df.head()"
   ]
  },
  {
   "cell_type": "code",
   "execution_count": 4,
   "id": "cfa8685f",
   "metadata": {},
   "outputs": [
    {
     "data": {
      "text/plain": [
       "(16779, 3)"
      ]
     },
     "execution_count": 4,
     "metadata": {},
     "output_type": "execute_result"
    }
   ],
   "source": [
    "df.shape"
   ]
  },
  {
   "cell_type": "code",
   "execution_count": 5,
   "id": "eea8250b",
   "metadata": {},
   "outputs": [
    {
     "name": "stdout",
     "output_type": "stream",
     "text": [
      "notes    9\n",
      "codes    0\n",
      "desc     0\n",
      "dtype: int64\n",
      "notes    0\n",
      "codes    0\n",
      "desc     0\n",
      "dtype: int64\n"
     ]
    }
   ],
   "source": [
    "print(df.isna().sum())\n",
    "\n",
    "df.dropna(inplace=True)\n",
    "\n",
    "print(df.isna().sum())"
   ]
  },
  {
   "cell_type": "code",
   "execution_count": 6,
   "id": "efbc8008",
   "metadata": {},
   "outputs": [],
   "source": [
    "duplicate_notes = df[df.duplicated(['notes'], keep=False)]"
   ]
  },
  {
   "cell_type": "code",
   "execution_count": 12,
   "id": "dbd6f862",
   "metadata": {},
   "outputs": [
    {
     "data": {
      "text/plain": [
       "5    patient diagnosed with staphylococcal arthriti...\n",
       "Name: notes, dtype: object"
      ]
     },
     "execution_count": 12,
     "metadata": {},
     "output_type": "execute_result"
    }
   ],
   "source": [
    "duplicate_notes.notes.iloc[:1].apply(text_aug.summarize_w_t5_base)"
   ]
  },
  {
   "cell_type": "code",
   "execution_count": null,
   "id": "e426ab37",
   "metadata": {
    "scrolled": true
   },
   "outputs": [],
   "source": [
    "duplicate_notes['notes'] = duplicate_notes.notes.apply(text_aug.summarize_w_t5_base)"
   ]
  },
  {
   "cell_type": "code",
   "execution_count": null,
   "id": "dd353a89",
   "metadata": {},
   "outputs": [],
   "source": []
  }
 ],
 "metadata": {
  "kernelspec": {
   "display_name": "Python 3 (ipykernel)",
   "language": "python",
   "name": "python3"
  },
  "language_info": {
   "codemirror_mode": {
    "name": "ipython",
    "version": 3
   },
   "file_extension": ".py",
   "mimetype": "text/x-python",
   "name": "python",
   "nbconvert_exporter": "python",
   "pygments_lexer": "ipython3",
   "version": "3.10.6"
  }
 },
 "nbformat": 4,
 "nbformat_minor": 5
}
