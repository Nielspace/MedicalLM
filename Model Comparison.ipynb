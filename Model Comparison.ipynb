{
 "cells": [
  {
   "cell_type": "code",
   "execution_count": 21,
   "id": "7faeb0f6",
   "metadata": {},
   "outputs": [],
   "source": [
    "import dataloader\n",
    "from dataloader import clean_text, lemmatize_text\n",
    "from textaug import text_aug\n",
    "\n",
    "import numpy as np\n",
    "import pandas as pd\n",
    "import matplotlib.pyplot as plt\n",
    "import seaborn as sns\n",
    "\n",
    "from sklearn.preprocessing import LabelEncoder"
   ]
  },
  {
   "cell_type": "code",
   "execution_count": 2,
   "id": "461eb2ad",
   "metadata": {},
   "outputs": [
    {
     "data": {
      "text/html": [
       "<div>\n",
       "<style scoped>\n",
       "    .dataframe tbody tr th:only-of-type {\n",
       "        vertical-align: middle;\n",
       "    }\n",
       "\n",
       "    .dataframe tbody tr th {\n",
       "        vertical-align: top;\n",
       "    }\n",
       "\n",
       "    .dataframe thead th {\n",
       "        text-align: right;\n",
       "    }\n",
       "</style>\n",
       "<table border=\"1\" class=\"dataframe\">\n",
       "  <thead>\n",
       "    <tr style=\"text-align: right;\">\n",
       "      <th></th>\n",
       "      <th>notes</th>\n",
       "      <th>codes</th>\n",
       "      <th>desc</th>\n",
       "      <th>code_enc</th>\n",
       "    </tr>\n",
       "  </thead>\n",
       "  <tbody>\n",
       "    <tr>\n",
       "      <th>0</th>\n",
       "      <td>Patient underwent surgical intervention for St...</td>\n",
       "      <td>M00.0</td>\n",
       "      <td>Staphylococcal arthritis and polyarthritis</td>\n",
       "      <td>0</td>\n",
       "    </tr>\n",
       "    <tr>\n",
       "      <th>1</th>\n",
       "      <td>Operative note: Patient presented with Staphyl...</td>\n",
       "      <td>M00.0</td>\n",
       "      <td>Staphylococcal arthritis and polyarthritis</td>\n",
       "      <td>0</td>\n",
       "    </tr>\n",
       "    <tr>\n",
       "      <th>2</th>\n",
       "      <td>Operative intervention performed for Staphylo...</td>\n",
       "      <td>M00.0</td>\n",
       "      <td>Staphylococcal arthritis and polyarthritis</td>\n",
       "      <td>0</td>\n",
       "    </tr>\n",
       "    <tr>\n",
       "      <th>3</th>\n",
       "      <td>Patient underwent surgical management for Stap...</td>\n",
       "      <td>M00.0</td>\n",
       "      <td>Staphylococcal arthritis and polyarthritis</td>\n",
       "      <td>0</td>\n",
       "    </tr>\n",
       "    <tr>\n",
       "      <th>4</th>\n",
       "      <td>Surgical intervention performed for Staphyloco...</td>\n",
       "      <td>M00.0</td>\n",
       "      <td>Staphylococcal arthritis and polyarthritis</td>\n",
       "      <td>0</td>\n",
       "    </tr>\n",
       "  </tbody>\n",
       "</table>\n",
       "</div>"
      ],
      "text/plain": [
       "                                               notes  codes  \\\n",
       "0  Patient underwent surgical intervention for St...  M00.0   \n",
       "1  Operative note: Patient presented with Staphyl...  M00.0   \n",
       "2   Operative intervention performed for Staphylo...  M00.0   \n",
       "3  Patient underwent surgical management for Stap...  M00.0   \n",
       "4  Surgical intervention performed for Staphyloco...  M00.0   \n",
       "\n",
       "                                         desc  code_enc  \n",
       "0  Staphylococcal arthritis and polyarthritis         0  \n",
       "1  Staphylococcal arthritis and polyarthritis         0  \n",
       "2  Staphylococcal arthritis and polyarthritis         0  \n",
       "3  Staphylococcal arthritis and polyarthritis         0  \n",
       "4  Staphylococcal arthritis and polyarthritis         0  "
      ]
     },
     "execution_count": 2,
     "metadata": {},
     "output_type": "execute_result"
    }
   ],
   "source": [
    "enc = LabelEncoder()\n",
    "\n",
    "file_list = dataloader.csv_concat(dataloader.DATA_PATH)\n",
    "df = dataloader.file_structuring(file_list)\n",
    "\n",
    "code_enc = enc.fit_transform(df.codes)\n",
    "df[\"code_enc\"] = code_enc\n",
    "\n",
    "df.head()"
   ]
  },
  {
   "cell_type": "code",
   "execution_count": 3,
   "id": "31aafbd3",
   "metadata": {},
   "outputs": [
    {
     "name": "stdout",
     "output_type": "stream",
     "text": [
      "notes       9\n",
      "codes       0\n",
      "desc        0\n",
      "code_enc    0\n",
      "dtype: int64\n",
      "notes       0\n",
      "codes       0\n",
      "desc        0\n",
      "code_enc    0\n",
      "dtype: int64\n"
     ]
    }
   ],
   "source": [
    "print(df.isna().sum())\n",
    "\n",
    "df.dropna(inplace=True)\n",
    "\n",
    "print(df.isna().sum())"
   ]
  },
  {
   "cell_type": "code",
   "execution_count": 4,
   "id": "6c1e502d",
   "metadata": {},
   "outputs": [],
   "source": [
    "df.drop_duplicates(inplace=True)"
   ]
  },
  {
   "cell_type": "code",
   "execution_count": 5,
   "id": "b84d8590",
   "metadata": {},
   "outputs": [
    {
     "data": {
      "text/plain": [
       "<AxesSubplot:>"
      ]
     },
     "execution_count": 5,
     "metadata": {},
     "output_type": "execute_result"
    },
    {
     "data": {
      "image/png": "[encoded data removed]",
      "text/plain": [
       "<Figure size 640x480 with 1 Axes>"
      ]
     },
     "metadata": {},
     "output_type": "display_data"
    }
   ],
   "source": [
    "df['Word_Count'] = df['notes'].apply(lambda x: len(x.split()))\n",
    "df.Word_Count.hist(bins=50)"
   ]
  },
  {
   "cell_type": "code",
   "execution_count": 6,
   "id": "f3e9d561",
   "metadata": {},
   "outputs": [
    {
     "data": {
      "text/plain": [
       "(15167, 5)"
      ]
     },
     "execution_count": 6,
     "metadata": {},
     "output_type": "execute_result"
    }
   ],
   "source": [
    "words_to_exclude = ['Certainly!']\n",
    "df = df[~df['notes'].str.contains('|'.join(words_to_exclude))].copy()\n",
    "\n",
    "word_to_remove = [\"1.\", \"2.\", \"3.\", \"4.\", \"5.\", \"6.\", \"7.\", \"8.\", \"9.\", \"10.\", 'Certainly!', '00', '00 00', '00 00 00']\n",
    "for w in word_to_remove:\n",
    "    df['notes'] = df['notes'].str.replace(w, '')\n",
    "\n",
    "df = df[df['Word_Count'] >= 10]\n",
    "df.shape"
   ]
  },
  {
   "cell_type": "code",
   "execution_count": 24,
   "id": "77195864",
   "metadata": {},
   "outputs": [
    {
     "data": {
      "text/html": [
       "<div>\n",
       "<style scoped>\n",
       "    .dataframe tbody tr th:only-of-type {\n",
       "        vertical-align: middle;\n",
       "    }\n",
       "\n",
       "    .dataframe tbody tr th {\n",
       "        vertical-align: top;\n",
       "    }\n",
       "\n",
       "    .dataframe thead th {\n",
       "        text-align: right;\n",
       "    }\n",
       "</style>\n",
       "<table border=\"1\" class=\"dataframe\">\n",
       "  <thead>\n",
       "    <tr style=\"text-align: right;\">\n",
       "      <th></th>\n",
       "      <th>notes</th>\n",
       "      <th>codes</th>\n",
       "      <th>desc</th>\n",
       "      <th>code_enc</th>\n",
       "      <th>Word_Count</th>\n",
       "    </tr>\n",
       "  </thead>\n",
       "  <tbody>\n",
       "    <tr>\n",
       "      <th>98</th>\n",
       "      <td>Operative Note lxii: Contracture release surge...</td>\n",
       "      <td>0</td>\n",
       "      <td>Contracture of muscle</td>\n",
       "      <td>50</td>\n",
       "      <td>80</td>\n",
       "    </tr>\n",
       "    <tr>\n",
       "      <th>222</th>\n",
       "      <td>The patient was placed in a supine position, a...</td>\n",
       "      <td>0</td>\n",
       "      <td>Other rupture of muscle (nontraumatic)</td>\n",
       "      <td>47</td>\n",
       "      <td>40</td>\n",
       "    </tr>\n",
       "    <tr>\n",
       "      <th>385</th>\n",
       "      <td>Ankylosing spondylitis patient showed progres...</td>\n",
       "      <td>1</td>\n",
       "      <td>Ankylosing spondylitis</td>\n",
       "      <td>29</td>\n",
       "      <td>44</td>\n",
       "    </tr>\n",
       "    <tr>\n",
       "      <th>146</th>\n",
       "      <td>There are  A woman with AS is presented with r...</td>\n",
       "      <td>1</td>\n",
       "      <td>Ankylosing spondylitis</td>\n",
       "      <td>29</td>\n",
       "      <td>12</td>\n",
       "    </tr>\n",
       "    <tr>\n",
       "      <th>173</th>\n",
       "      <td>This operative promissory note documents the ...</td>\n",
       "      <td>0</td>\n",
       "      <td>Infective myositis</td>\n",
       "      <td>36</td>\n",
       "      <td>99</td>\n",
       "    </tr>\n",
       "  </tbody>\n",
       "</table>\n",
       "</div>"
      ],
      "text/plain": [
       "                                                 notes  codes  \\\n",
       "98   Operative Note lxii: Contracture release surge...      0   \n",
       "222  The patient was placed in a supine position, a...      0   \n",
       "385   Ankylosing spondylitis patient showed progres...      1   \n",
       "146  There are  A woman with AS is presented with r...      1   \n",
       "173   This operative promissory note documents the ...      0   \n",
       "\n",
       "                                        desc  code_enc  Word_Count  \n",
       "98                     Contracture of muscle        50          80  \n",
       "222  Other rupture of muscle (nontraumatic)         47          40  \n",
       "385                   Ankylosing spondylitis        29          44  \n",
       "146                   Ankylosing spondylitis        29          12  \n",
       "173                      Infective myositis         36          99  "
      ]
     },
     "execution_count": 24,
     "metadata": {},
     "output_type": "execute_result"
    }
   ],
   "source": [
    "#binarize the dataset\n",
    "M45 = df[df.codes == \"M45\"]\n",
    "M45.codes = int(1)\n",
    "other = df[df.codes != \"M45\"]\n",
    "other.codes = 0\n",
    "other = other.sample(frac=0.1)\n",
    "other = other[:300]\n",
    "\n",
    "sample = pd.concat([M45, other]).sample(frac=23)\n",
    "sample.head()"
   ]
  },
  {
   "cell_type": "code",
   "execution_count": 59,
   "id": "24dc8235",
   "metadata": {},
   "outputs": [
    {
     "name": "stdout",
     "output_type": "stream",
     "text": [
      "(3033, 2) (759, 2)\n"
     ]
    }
   ],
   "source": [
    "from sklearn.feature_extraction.text import TfidfVectorizer\n",
    "from sklearn.decomposition import PCA\n",
    "\n",
    "def gen_embeddings(df, \n",
    "               X_features=sample['notes'],\n",
    "               y_features=sample['code_enc'], \n",
    "               test_size=0.2,\n",
    "               max_features=1000, \n",
    "               random_state=23):\n",
    "\n",
    "\n",
    "    vectorizer = TfidfVectorizer(analyzer='word', stop_words='english',ngram_range=(1,3), \n",
    "                                 max_df=0.75, use_idf=True, smooth_idf=True, max_features=1000)\n",
    "\n",
    "    tfIdfMat  = vectorizer.fit_transform(X_features.tolist())\n",
    "    feature_names = sorted(vectorizer.get_feature_names_out())\n",
    "\n",
    "\n",
    "\n",
    "    pca = PCA(n_components=2, random_state=23)\n",
    "    tfIdfMat_reduced = pca.fit_transform(tfIdfMat.toarray())\n",
    "    labels = y_features.tolist()\n",
    "    category_list = y_features.unique()\n",
    "\n",
    "\n",
    "    X_train, X_test, y_train, y_test = train_test_split(tfIdfMat_reduced, labels, \n",
    "                                                        test_size=test_size, \n",
    "                                                        stratify=labels,\n",
    "                                                        random_state=random_state)\n",
    "    \n",
    "    return (X_train, X_test, y_train, y_test, vectorizer, feature_names, pca, labels, category_list)\n",
    "    \n",
    "    \n",
    "\n",
    "X_train, X_test, y_train, y_test, vectorizer, feature_names, pca, labels, category_list = gen_embeddings(sample)\n",
    "\n",
    "print(X_train.shape, X_test.shape)"
   ]
  },
  {
   "cell_type": "code",
   "execution_count": 60,
   "id": "a3d384b4",
   "metadata": {},
   "outputs": [],
   "source": [
    "from matplotlib.colors import ListedColormap\n",
    "\n",
    "from sklearn.datasets import make_circles, make_classification, make_moons\n",
    "from sklearn.discriminant_analysis import QuadraticDiscriminantAnalysis\n",
    "from sklearn.ensemble import AdaBoostClassifier, RandomForestClassifier\n",
    "from sklearn.gaussian_process import GaussianProcessClassifier\n",
    "from sklearn.gaussian_process.kernels import RBF\n",
    "from sklearn.inspection import DecisionBoundaryDisplay\n",
    "from sklearn.model_selection import train_test_split\n",
    "from sklearn.naive_bayes import GaussianNB\n",
    "from sklearn.neighbors import KNeighborsClassifier\n",
    "from sklearn.neural_network import MLPClassifier\n",
    "from sklearn.pipeline import make_pipeline\n",
    "from sklearn.preprocessing import StandardScaler\n",
    "from sklearn.svm import SVC\n",
    "from sklearn.tree import DecisionTreeClassifier\n",
    "\n",
    "names = [\n",
    "    \"Nearest Neighbors\",\n",
    "    \"Linear SVM\",\n",
    "    \"RBF SVM\",\n",
    "    \"Gaussian Process\",\n",
    "    \"Decision Tree\",\n",
    "    \"Random Forest\",\n",
    "    \"Neural Net\",\n",
    "    \"AdaBoost\",\n",
    "    \"Naive Bayes\",\n",
    "    \"QDA\",\n",
    "]"
   ]
  },
  {
   "cell_type": "code",
   "execution_count": 61,
   "id": "f58c20e9",
   "metadata": {},
   "outputs": [],
   "source": [
    "classifiers = [\n",
    "    KNeighborsClassifier(3),\n",
    "    SVC(kernel=\"linear\", C=0.025),\n",
    "    SVC(gamma=2, C=1),\n",
    "    GaussianProcessClassifier(1.0 * RBF(1.0)),\n",
    "    DecisionTreeClassifier(max_depth=5),\n",
    "    RandomForestClassifier(max_depth=5, n_estimators=10, max_features=1),\n",
    "    MLPClassifier(alpha=1, max_iter=1000),\n",
    "    AdaBoostClassifier(),\n",
    "    GaussianNB(),\n",
    "    QuadraticDiscriminantAnalysis(),\n",
    "]"
   ]
  },
  {
   "cell_type": "code",
   "execution_count": null,
   "id": "aca97141",
   "metadata": {},
   "outputs": [],
   "source": [
    "figure = plt.figure(figsize=(27, 9))\n",
    "i = 1\n",
    "\n",
    "\n",
    "for ds_cnt, ds in enumerate(df):\n",
    "    \n",
    "\n",
    "    x_min, x_max = X_train[:, 1].min() - 0.5, X_train[:, 0].max() + 0.5\n",
    "    y_min, y_max = X_train[:, 1].min() - 0.5, X_train[:, 1].max() + 0.5\n",
    "    cm = plt.cm.RdBu\n",
    "    cm_bright = ListedColormap([\"#FF0000\", \"#0000FF\"])\n",
    "    ax = plt.subplot(len(sample), len(classifiers) + 1, i)\n",
    "    \n",
    "    if ds_cnt == 0:\n",
    "        ax.set_title(\"Input data\")\n",
    "    ax.scatter(X_train[:, 0], X_train[:, 1], c=y_train, cmap=cm_bright, edgecolors=\"k\")\n",
    "    ax.scatter(X_test[:, 0], X_test[:, 1], c=y_test, cmap=cm_bright, alpha=0.6, edgecolors=\"k\")\n",
    "    ax.set_xlim(x_min, x_max)\n",
    "    ax.set_ylim(y_min, y_max)\n",
    "    ax.set_xticks(())\n",
    "    ax.set_yticks(())\n",
    "    i += 1\n",
    "\n",
    "\n",
    "    for name, clf in zip(names, classifiers):\n",
    "        ax = plt.subplot(len(sample), len(classifiers) + 1, i)\n",
    "\n",
    "        clf = make_pipeline(clf)\n",
    "        clf.fit(X_train, y_train)\n",
    "        score = clf.score(X_test, y_test)\n",
    "        DecisionBoundaryDisplay.from_estimator(clf, X_train)\n",
    "        \n",
    "        ax.scatter(X_train[:, 0], X_train[:, 1], c=y_train, cmap=cm_bright, edgecolors=\"k\")\n",
    "        ax.scatter(X_test[:, 0], X_test[:, 1], c=y_test, cmap=cm_bright, edgecolors=\"k\",alpha=0.6)\n",
    "\n",
    "        ax.set_xlim(x_min, x_max)\n",
    "        ax.set_ylim(y_min, y_max)\n",
    "        ax.set_xticks(())\n",
    "        ax.set_yticks(())\n",
    "        if ds_cnt == 0:\n",
    "            ax.set_title(name)\n",
    "        ax.text(x_max - 0.3, y_min + 0.3, (\"%.2f\" % score).lstrip(\"0\"), size=15, horizontalalignment=\"right\"y)\n",
    "        i += 1\n",
    "\n",
    "plt.tight_layout()\n",
    "plt.show()"
   ]
  },
  {
   "cell_type": "code",
   "execution_count": 58,
   "id": "85b732cd",
   "metadata": {},
   "outputs": [
    {
     "data": {
      "text/plain": [
       "(3033, 547)"
      ]
     },
     "execution_count": 58,
     "metadata": {},
     "output_type": "execute_result"
    }
   ],
   "source": [
    "X_train.shape"
   ]
  },
  {
   "cell_type": "code",
   "execution_count": null,
   "id": "faf9c0cd",
   "metadata": {},
   "outputs": [],
   "source": []
  }
 ],
 "metadata": {
  "kernelspec": {
   "display_name": "Python 3 (ipykernel)",
   "language": "python",
   "name": "python3"
  },
  "language_info": {
   "codemirror_mode": {
    "name": "ipython",
    "version": 3
   },
   "file_extension": ".py",
   "mimetype": "text/x-python",
   "name": "python",
   "nbconvert_exporter": "python",
   "pygments_lexer": "ipython3",
   "version": "3.10.6"
  }
 },
 "nbformat": 4,
 "nbformat_minor": 5
}
